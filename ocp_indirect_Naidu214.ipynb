{
 "cells": [
  {
   "cell_type": "markdown",
   "metadata": {},
   "source": [
    "# Indirect Method for optimal control problem with free final time\n",
    "\n",
    "(Example from Naidu 2.14, pg.78)\n",
    "\n",
    "Yuri Shimane, 2020.08.17"
   ]
  },
  {
   "cell_type": "markdown",
   "metadata": {},
   "source": [
    "### Free-time, second order OCP\n",
    "A second-order optimal control problem (OCP) is solved via the indirect method as a two-point boundary value problem (TPBVP), using the ```scipy.integrate.solve_bvp()``` function. \n",
    "This problem consists of:\n",
    "- free final time $t_f$\n",
    "- fixed initial states, partially free final states\n",
    "- no Mayer term in the cost function\n",
    "- unconstrained states and controls\n",
    "\n",
    "The final time is treated as an unkonwn parameter ```p[0]``` to the ```solve_bvp()``` function. \n",
    "https://docs.scipy.org/doc/scipy/reference/generated/scipy.integrate.solve_bvp.html\n",
    "\n",
    "---\n",
    "\n",
    "The problem considered is taken from *Optimal Control Systems* by Naidu (pg.78~). The system is defined by\n",
    "\n",
    "$$\n",
    "\\begin{align}\n",
    "\\dot{x}_1(t) &= x_2(t) \\\\\n",
    "\\dot{x}_2(t) &= u(t)\n",
    "\\end{align}\n",
    "$$\n",
    "\n",
    "with cost function\n",
    "\n",
    "$$\n",
    "J = \\dfrac{1}{2} \\int_{t_0}^{t_f} u^2(t) dt\n",
    "$$\n",
    "\n",
    "and boundary conditions\n",
    "\n",
    "$$\n",
    "\\mathbf{x}(0) = \\left[ 1 , 2 \\right]^T  \\\\\n",
    "x_1(t_f) = 3\n",
    "$$\n",
    "\n",
    "From the Hamiltonian\n",
    "\n",
    "$$\n",
    "H(t) = \\dfrac{1}{2} u^2(t) + p_1(t)x_2(t) + p_2(t)u(t)\n",
    "$$\n",
    "\n",
    "From Pontryagin's Minimum Principle, $\\dfrac{\\partial H}{\\partial \\mathbf{u}} = 0$, so\n",
    "\n",
    "$$\n",
    "u(t) + p_2(t) = 0 \\Rightarrow u(t) = -p_2(t)\n",
    "$$\n",
    "\n",
    "The Hamiltonian may thus be rewritten by\n",
    "\n",
    "$$\n",
    "\\begin{align}\n",
    "H(t) =& \\dfrac{1}{2} p_2^2(t) + p_1(t)x_2(t) - p_2^2(t) \\\\\n",
    "     =& p_1(t)x_2(t) -\\dfrac{1}{2} p_2^2(t)\n",
    "\\end{align}\n",
    "$$\n",
    "\n",
    "Based on the Hamiltonian, the costate ODE's are given by\n",
    "\n",
    "$$\n",
    "\\begin{align}\n",
    "\\dot{p}_1(t) =& -\\dfrac{\\partial H}{\\partial x_1} = 0 \\\\\n",
    "\\dot{p}_2(t) =& -\\dfrac{\\partial H}{\\partial x_2} = -p_1(t)\n",
    "\\end{align}\n",
    "$$\n",
    "\n",
    "#### Hamiltonian system\n",
    "The state costates ODE's of the Hamiltonian system are thus given by\n",
    "\n",
    "$$\n",
    "\\begin{align}\n",
    "\\dot{x}_1(t) &= x_2(t) \\\\\n",
    "\\dot{x}_2(t) &= -p_2(t)  \\\\\n",
    "\\dot{p}_1(t) &= 0 \\\\\n",
    "\\dot{p}_2(t) &= -p_1(t)\n",
    "\\end{align}\n",
    "$$\n",
    "\n",
    "\n",
    "#### Terminal condition of fixed state at $t_f$\n",
    "The terminal condition of costate $p_1$ (where the associated state $x_1$ is fixed at $t_f$) is given by the equation\n",
    "\n",
    "$$\n",
    "H(\\mathbf{x}(t_f)^*, \\mathbf{u}(t_f)^*, \\mathbf{p}(t_f)^* t_f) + \\dfrac{\\partial h( \\mathbf{x}(t_f) )}{\\partial \\mathbf{x}} = 0\n",
    "$$\n",
    "\n",
    "hence, for costate $p_1$, considering $\\dfrac{\\partial}{\\partial x_1}$, (and since $h=0$), \n",
    "\n",
    "$$\n",
    "p_1(t_f) x_2(t_f) - \\dfrac{1}{2} p_2^2(t_f) = 0\n",
    "$$\n",
    "\n",
    "#### Terminal condition of free state at $t_f$\n",
    "For costate $p_2$, since the associated state $x_2$ is free at $t_f$, the terminal condition is given by\n",
    "\n",
    "$$\n",
    "\\mathbf{p}(t_f) = \\dfrac{\\partial h( \\mathbf{x}(t_f) )}{\\partial \\mathbf{x}}\n",
    "$$\n",
    "\n",
    "hence\n",
    "\n",
    "$$\n",
    "p_2(t_f) = 0\n",
    "$$"
   ]
  },
  {
   "cell_type": "code",
   "execution_count": 29,
   "metadata": {},
   "outputs": [],
   "source": [
    "import numpy as np\n",
    "from scipy.integrate import solve_bvp\n",
    "import matplotlib.pyplot as plt\n",
    "plt.rcParams[\"font.size\"] = 16"
   ]
  },
  {
   "cell_type": "code",
   "execution_count": 30,
   "metadata": {},
   "outputs": [],
   "source": [
    "def ode_naidu(t, y, p):\n",
    "    \"\"\"ODE function must return array with shape (n,m), in the same layout as y\"\"\"\n",
    "    tf = p[0]\n",
    "    n, m = y.shape\n",
    "    for j in range(m):\n",
    "        state = y[:,j]\n",
    "        # unpack state\n",
    "        x1 = state[0]\n",
    "        x2 = state[1]\n",
    "        p1 = state[2]\n",
    "        p2 = state[3]\n",
    "        # control\n",
    "        u = -p2\n",
    "        # derivatives\n",
    "        dstate = np.zeros(n,)\n",
    "        dstate[0] = tf*( x2 )\n",
    "        dstate[1] = tf*( -p2 )\n",
    "        dstate[2] = tf*( 0 )\n",
    "        dstate[3] = tf*( -p1 )\n",
    "        if j == 0:\n",
    "            dy = np.reshape(dstate, (n,1))\n",
    "        else:\n",
    "            dy = np.concatenate((dy, np.reshape(dstate, (n,1)) ), axis=1)\n",
    "    return dy"
   ]
  },
  {
   "cell_type": "code",
   "execution_count": 31,
   "metadata": {},
   "outputs": [],
   "source": [
    "def bc_naidu(ya, yb, p):\n",
    "    \"\"\"Boundary conditions must have shape (n+k,), where ya & yb have shape (n,), and p has shape (k,)\"\"\"\n",
    "    res = np.zeros(len(ya)+len(p),)\n",
    "    # initial time boundary conditions\n",
    "    res[0] = ya[0] - 1   # x_1(0) == 1\n",
    "    res[1] = ya[1] - 2   # x_2(0) == 2\n",
    "    # final time boundary conditions\n",
    "    res[2] = yb[0] - 3   # x1(t_f) == 3\n",
    "    res[3] = yb[3]       # p2(t_f) == 0\n",
    "    res[4] = yb[2]*yb[1] - 0.5*yb[3]**2\n",
    "    return res"
   ]
  },
  {
   "cell_type": "code",
   "execution_count": 32,
   "metadata": {},
   "outputs": [],
   "source": [
    "# prepare time-domain mesh\n",
    "x = np.linspace(0, 1, 41)\n",
    "# prepare initial geuss\n",
    "y = np.zeros((4, x.size))\n",
    "for j in range(x.size):  # modify initial guess slightly (may be commented out)\n",
    "    y[0,j] = 2\n",
    "    y[1,j] = 3\n",
    "    y[2,j] = 1\n",
    "    y[3,j] = 1"
   ]
  },
  {
   "cell_type": "code",
   "execution_count": 36,
   "metadata": {},
   "outputs": [
    {
     "name": "stdout",
     "output_type": "stream",
     "text": [
      "   Iteration    Max residual  Max BC residual  Total nodes    Nodes added  \n",
      "       1          4.92e-03       6.53e-04          50             49       \n",
      "       2          1.17e-12       7.64e-14          99              0       \n",
      "Solved in 2 iterations, number of nodes 99. \n",
      "Maximum relative residual: 1.17e-12 \n",
      "Maximum boundary residual: 7.64e-14\n"
     ]
    }
   ],
   "source": [
    "tf_guess = 2\n",
    "sol = solve_bvp(fun=ode_naidu, bc=bc_naidu, x=x, y=y, p=[tf_guess], verbose=2, bc_tol=1e-12)"
   ]
  },
  {
   "cell_type": "code",
   "execution_count": 34,
   "metadata": {},
   "outputs": [],
   "source": [
    "# unpack solution\n",
    "tf = sol.p\n",
    "sol_mesh = sol.x\n",
    "sol_mat = sol.y\n",
    "times = tf * sol.x\n",
    "x1_star = sol_mat[0,:]\n",
    "x2_star = sol_mat[1,:]\n",
    "p1_star = sol_mat[2,:]\n",
    "p2_star = sol_mat[3,:]\n",
    "\n",
    "# reconstruct u\n",
    "ustar = -p2_star\n",
    "\n",
    "# reconstruct cost\n",
    "mesh_length = len(sol_mesh)\n",
    "j_star = 0.0\n",
    "for j in range(mesh_length):\n",
    "    j_star += ustar[j]**2\n",
    "j_star = 0.5*j_star"
   ]
  },
  {
   "cell_type": "code",
   "execution_count": 35,
   "metadata": {},
   "outputs": [
    {
     "data": {
      "image/png": "[encoded data removed]",
      "text/plain": [
       "<Figure size 864x576 with 1 Axes>"
      ]
     },
     "metadata": {
      "needs_background": "light"
     },
     "output_type": "display_data"
    }
   ],
   "source": [
    "plt.figure(1, figsize=(12,8))\n",
    "plt.title(f\"Free-time problem, sovled as TPBVP resulting in J = {j_star:2.6f}\")\n",
    "plt.plot(times, ustar, label=\"u\")\n",
    "plt.plot(times, x1_star, label=\"x1\")\n",
    "plt.plot(times, x2_star, label=\"x2\")\n",
    "plt.xlabel(\"time\")\n",
    "plt.ylabel(\"y\")\n",
    "plt.legend()\n",
    "plt.grid(which=\"both\")\n",
    "plt.show()"
   ]
  },
  {
   "cell_type": "code",
   "execution_count": null,
   "metadata": {},
   "outputs": [],
   "source": []
  }
 ],
 "metadata": {
  "kernelspec": {
   "display_name": "Python 3",
   "language": "python",
   "name": "python3"
  },
  "language_info": {
   "codemirror_mode": {
    "name": "ipython",
    "version": 3
   },
   "file_extension": ".py",
   "mimetype": "text/x-python",
   "name": "python",
   "nbconvert_exporter": "python",
   "pygments_lexer": "ipython3",
   "version": "3.7.3"
  }
 },
 "nbformat": 4,
 "nbformat_minor": 4
}
