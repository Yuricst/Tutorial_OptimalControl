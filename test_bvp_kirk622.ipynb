{
 "cells": [
  {
   "cell_type": "markdown",
   "metadata": {},
   "source": [
    "# Indirect Method for optimal control problem example from Kirk 6.2.2\n",
    "\n",
    "Yuri Shimane, 2020.08.17"
   ]
  },
  {
   "cell_type": "markdown",
   "metadata": {},
   "source": [
    "### Continuous stirred-tank chemical reactor problem (fixed final time, Lagrange cost function)\n",
    "\n",
    "THe continous stirred-tank chemical reactor problem is solved via the indirect method as a two-point boundary value problem (TPBVP), using the ```scipy.integrate.solve_bvp()``` function. \n",
    "\n",
    "https://docs.scipy.org/doc/scipy/reference/generated/scipy.integrate.solve_bvp.html\n",
    "\n",
    "\n",
    "This problem is treated in *Optimal Control Theory: An Introduction* by Donald E. Kirk (pg.338~), and dealt in detail in Luus et al, 1967. *The Control of Nonlinear Systems. Part II: Convergence by Combined First and Second Variations*. \n",
    "It consists of a irreversible, exothermic reaction happening in a rector, which must be controlled via a cooling fluid flow actuated with a cooling coil inserted in the reactor. \n",
    "\n",
    "State equations:\n",
    "\n",
    "$$\n",
    "\\begin{align}\n",
    "\\dot{x}_1(t) =& -2\\left[ x_1(t) + 0.25 \\right] + \\left[x_2(t) + 0.5 \\right] \\exp{\\left[ \\dfrac{25x_1(t)}{x_1(t)+2} \\right]} - \\left[ x_1(t) + 0.25\\right] u(t)\n",
    "\\\\\n",
    "\\dot{x}_2(t) =& 0.5 - x_2(t) - \\left[x_2(t) + 0.5 \\right] \\exp{\\left[ \\dfrac{25x_1(t)}{x_1(t)+2} \\right]}\n",
    "\\end{align}\n",
    "$$\n",
    "\n",
    "with initial conditions $\\mathbf{x}(0) = \\left[0.05, 0 \\right]^T$ and free terminal conditions. \n",
    "The cost function is given by \n",
    "\n",
    "$$\n",
    "J = \\int_{0}^{t_f} \\left[ x_1^2(t) + x_2^2(t) + Ru^2(t) \\right] dt\n",
    "$$\n",
    "where $R=0.1$ is a weighting factor, and $t_f = 0.78$ is the fixed final time. \n",
    "The Hamiltonian of the system is given by\n",
    "$$\n",
    "\\begin{align}\n",
    "H(\\mathbf{x}(t), \\mathbf{u}(t), \\mathbf{p}(t)) =& x_1^2(t) + x_2^2(t) + Ru^2(t)  \\\\\n",
    "    & + p_1(t) \\left[ -2 \\left[x_1(t) + 0.25 \\right] + \\left[ x_2(t) + 0.5 \\right] \\exp{\\left[ \\dfrac{25 x_1(t)}{x_1(t) + 2} \\right]} - \\left[ x_1(t) + 0.25\\right]u(t) \\right]  \\\\\n",
    "    & + p_2(t) \\left[ 0.5 - x_2(t) - \\left[ x_2(t) + 0.5 \\right] \\exp{\\left[ \\dfrac{25 x_1(t)}{x_1(t) + 2} \\right]} \\right]\n",
    "\\end{align}\n",
    "$$\n",
    "From necessary condition of optimal control, the ODEs for the costates are given by\n",
    "$$\n",
    "\\begin{align}\n",
    "\\dot{p}_1(t) =& \\dfrac{\\partial H}{\\partial x_1} \\\\\n",
    "             =& -2 x_1(t) + 2p_1(t) + p_1(t) \\left[ x_2(t) + 0.5\\right] \\left[ \\dfrac{50}{(x_1(t)+2)^2} \\right] \\exp{\\left[ \\dfrac{25 x_1(t)}{x_1(t) + 2} \\right]}   \\\\\n",
    "              &+ p_1(t)u(t) + p_2(t) \\left[ x_2(t) + 0.5 \\right] \\left[ \\dfrac{50}{(x_1(t)+2)^2} \\right] \\exp{\\left[ \\dfrac{25 x_1(t)}{x_1(t) + 2} \\right]}\n",
    "\\\\\n",
    "\\dot{p}_2(t) =& \\dfrac{\\partial H}{\\partial x_2} \\\\\n",
    "             =& -2 x_2(t) - p_1(t) \\exp{\\left[ \\dfrac{25 x_1(t)}{x_1(t) + 2} \\right]}\n",
    "                + p_2(t) \\left[ 1 + \\exp{\\left[ \\dfrac{25 x_1(t)}{x_1(t) + 2} \\right]} \\right]\n",
    "\\end{align}\n",
    "$$\n",
    "and the algebraic relation\n",
    "$$\n",
    "\\dfrac{\\partial H}{\\partial u} = 2 R u(t) - p_1(t) \\left[ x_1(t) + 0.25 \\right] = 0\n",
    "$$\n",
    "must be satisfied from Pontryagin's Minimum Principle. In general, the terminal conditions of the costates are given by\n",
    "$$\n",
    "\\dot{\\mathbf{p}}(t_f) = \\dfrac{\\partial h( \\mathbf{x}(t_f) )}{\\partial \\mathbf{x}}\n",
    "$$\n",
    "where $h$ is the Mayer term; since in this case, there is no Mayer term associated to $J$, $\\mathbf{p}(t_f) = 0$. \n"
   ]
  },
  {
   "cell_type": "code",
   "execution_count": 20,
   "metadata": {},
   "outputs": [],
   "source": [
    "import numpy as np\n",
    "from scipy.integrate import solve_bvp\n",
    "import matplotlib.pyplot as plt\n",
    "plt.rcParams[\"font.size\"] = 16"
   ]
  },
  {
   "cell_type": "code",
   "execution_count": 12,
   "metadata": {},
   "outputs": [],
   "source": [
    "R = 0.1   # parameter\n",
    "def ode_stirredtank(t, y):\n",
    "    \"\"\"ODE function must return array with shape (n,m), in the same layout as y\"\"\"\n",
    "    n, m = y.shape\n",
    "    for j in range(m):\n",
    "        state = y[:,j]\n",
    "        # unpack y\n",
    "        x1 = state[0]   # state x1 at j^th time\n",
    "        x2 = state[1]   # state x2 at j^th time\n",
    "        p1 = state[2]   # costate of x1 at j^th time\n",
    "        p2 = state[3]   # costate of x2 at j^th time\n",
    "        \n",
    "        # group terms to simplify expression\n",
    "        c1 = x1 + 0.25\n",
    "        c2 = x2 + 0.5\n",
    "        c3 = np.exp(25*x1/(x1+2))\n",
    "        c4 = 50/(x1+2)**2\n",
    "        \n",
    "        # compute control term as expression based on states and costates\n",
    "        u  = p1 * c1 / (2*R)\n",
    "        \n",
    "        # initialize space for derivatives\n",
    "        dstate = np.zeros(len(state),)\n",
    "        # state ODE's\n",
    "        dstate[0] = -2*c1 + c2*c3 - c2*u\n",
    "        dstate[1] = 0.5 - x2 - c2*c3\n",
    "        # costate ODE's\n",
    "        dstate[2] = -2*x1 + 2*p1 - p1*c2*c4*c3 + p1*u + p2*c2*c4*c3\n",
    "        dstate[3] = -2*x2 - p1*c3 + p2*(1 + c3)\n",
    "        if j == 0:\n",
    "            dy = np.reshape(dstate, (4,1))\n",
    "        else:\n",
    "            dy = np.concatenate((dy, np.reshape(dstate, (4,1)) ), axis=1)\n",
    "    return dy"
   ]
  },
  {
   "cell_type": "code",
   "execution_count": 24,
   "metadata": {},
   "outputs": [],
   "source": [
    "def bc_stirredtank(ya, yb):\n",
    "    \"\"\"Boundary conditions must have shape (n+k,), where ya & yb have shape (n,), and p has shape (k,)\"\"\"\n",
    "    res = np.zeros(4,)\n",
    "    # initial time boundary conditions\n",
    "    res[0] = ya[0] - 0.05\n",
    "    res[1] = ya[1] - 0\n",
    "    # final time boundary conditions\n",
    "    res[2] = yb[2] - 0\n",
    "    res[3] = yb[3] - 0\n",
    "    return res"
   ]
  },
  {
   "cell_type": "code",
   "execution_count": 32,
   "metadata": {},
   "outputs": [],
   "source": [
    "tf = 0.78   # final time\n",
    "# prepare time-domain mesh\n",
    "x = np.linspace(0, tf, 50)\n",
    "# prepare initial geuss\n",
    "y = np.zeros((4, x.size))\n",
    "for j in range(x.size):  # modify initial guess slightly (may be commented out)\n",
    "    y[2,j] = 0.5\n",
    "    y[3,j] = 0.5"
   ]
  },
  {
   "cell_type": "code",
   "execution_count": 26,
   "metadata": {},
   "outputs": [
    {
     "data": {
      "text/plain": [
       "50"
      ]
     },
     "execution_count": 26,
     "metadata": {},
     "output_type": "execute_result"
    }
   ],
   "source": [
    "n, m = y.shape\n",
    "m"
   ]
  },
  {
   "cell_type": "code",
   "execution_count": 35,
   "metadata": {},
   "outputs": [
    {
     "name": "stdout",
     "output_type": "stream",
     "text": [
      "   Iteration    Max residual  Max BC residual  Total nodes    Nodes added  \n",
      "       1          8.54e-05       1.93e-21          50              0       \n",
      "Solved in 1 iterations, number of nodes 50. \n",
      "Maximum relative residual: 8.54e-05 \n",
      "Maximum boundary residual: 1.93e-21\n"
     ]
    }
   ],
   "source": [
    "sol = solve_bvp(fun=ode_stirredtank, bc=bc_stirredtank, x=x, y=y, verbose=2, bc_tol=1e-15)"
   ]
  },
  {
   "cell_type": "code",
   "execution_count": 36,
   "metadata": {},
   "outputs": [],
   "source": [
    "# unpack solution\n",
    "sol_mesh = sol.x\n",
    "sol_mat = sol.y\n",
    "x1_star = sol_mat[0,:]\n",
    "x2_star = sol_mat[1,:]\n",
    "p1_star = sol_mat[2,:]\n",
    "p2_star = sol_mat[3,:]\n",
    "\n",
    "# reconstruct u\n",
    "ustar = p1_star * (x1_star + 0.25) / (2*R)\n",
    "\n",
    "# reconstruct cost\n",
    "mesh_length = len(sol_mesh)\n",
    "j_star = 0.0\n",
    "for j in range(mesh_length):\n",
    "    j_star += x1_star[j]**2 + x2_star[j]**2 + R*ustar[j]**2\n",
    "j_star = j_star * tf/mesh_length\n",
    "\n",
    "# j_star = tf * (x1_star * x1_star.reshape(mesh_length,1) + )\n",
    "\n",
    "# n = length(t);\n",
    "# % Calculate the cost\n",
    "# J = 0.78*(y(1,:)*y(1,:)' + y(2,:)*y(2,:)' + ut*ut'*0.1)/n;"
   ]
  },
  {
   "cell_type": "code",
   "execution_count": 37,
   "metadata": {},
   "outputs": [
    {
     "data": {
      "text/plain": [
       "0.01158829210709296"
      ]
     },
     "execution_count": 37,
     "metadata": {},
     "output_type": "execute_result"
    }
   ],
   "source": [
    "j_star"
   ]
  },
  {
   "cell_type": "code",
   "execution_count": 40,
   "metadata": {},
   "outputs": [
    {
     "data": {
      "image/png": "[encoded data removed]",
      "text/plain": [
       "<Figure size 1080x576 with 1 Axes>"
      ]
     },
     "metadata": {
      "needs_background": "light"
     },
     "output_type": "display_data"
    }
   ],
   "source": [
    "plt.figure(1, figsize=(15, 8))\n",
    "plt.title(f\"Stirred-tank reactor problem, sovled as TPBVP resulting in J = {j_star:2.6f}\")\n",
    "plt.plot(sol_mesh, ustar, label=\"u\")\n",
    "plt.plot(sol_mesh, x1_star, label=\"x1\")\n",
    "plt.plot(sol_mesh, x2_star, label=\"x2\")\n",
    "plt.xlabel(\"time\")\n",
    "plt.ylabel(\"y\")\n",
    "plt.legend()\n",
    "plt.grid(which=\"both\")\n",
    "plt.show()"
   ]
  },
  {
   "cell_type": "code",
   "execution_count": null,
   "metadata": {},
   "outputs": [],
   "source": []
  },
  {
   "cell_type": "code",
   "execution_count": null,
   "metadata": {},
   "outputs": [],
   "source": []
  },
  {
   "cell_type": "code",
   "execution_count": null,
   "metadata": {},
   "outputs": [],
   "source": []
  }
 ],
 "metadata": {
  "kernelspec": {
   "display_name": "Python 3",
   "language": "python",
   "name": "python3"
  },
  "language_info": {
   "codemirror_mode": {
    "name": "ipython",
    "version": 3
   },
   "file_extension": ".py",
   "mimetype": "text/x-python",
   "name": "python",
   "nbconvert_exporter": "python",
   "pygments_lexer": "ipython3",
   "version": "3.7.3"
  }
 },
 "nbformat": 4,
 "nbformat_minor": 4
}
